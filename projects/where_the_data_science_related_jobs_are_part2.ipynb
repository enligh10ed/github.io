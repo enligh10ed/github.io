{
 "cells": [
  {
   "cell_type": "markdown",
   "metadata": {},
   "source": [
    "# Where the data science jobs are? (Part 2)"
   ]
  },
  {
   "cell_type": "markdown",
   "metadata": {},
   "source": [
    "This post is a continuation of [Where the data science jobs are (part 1)](https://github.com/sedeh/github.io/blob/master/projects/where_the_data_science_related_jobs_are_part1.ipynb). In this installment, we're going to analyze the dataset we downloaded and cleaned in part 1. The dataset contains job information about non-U.S. workers. When a U.S. company wants to hire a foreign worker, the company is required to file a work visa (H1B) or permanent residencey (green card) application with the U.S. Department of Labor. As part of the application, the company must disclose how much U.S. workers in similar jobs are being paid. This is called `Prevailing Wage`. The dataset only contains H1B data.\n",
    "\n",
    "We can take advantage of this information to gain insights into the general U.S. job market. Specifically, we're going to look at data science related jobs. Assuming the prevailing wage theory is true, U.S. companies hire foreign workers because there are no qualified U.S. applicants to fill the roles. So a company that hires foreign workers likely also hires many U.S. workers. After all, they only hired non-U.S. workers becauses they have exhausted the pool of qualified U.S. applicants.\n",
    "\n",
    "In part 1, we downloaded, cleaned and enriched the dataset. Now, let's probe the dataset. The dataset contains the following fields that are relevant to our current analysis."
   ]
  },
  {
   "cell_type": "markdown",
   "metadata": {},
   "source": [
    "- `Submitted_Date`: Timestamp reflecting when the H1B application was received by the government\n",
    "- `Employer Name`: Name of the U.S. company filing the H1B application\n",
    "- `Work_State`: Full name of the state where the H1B job is located\n",
    "- `Work_State_Code`: Two letter state abbreviation where the H1B job is located\n",
    "- `Job_Category`: Unofficial job subcategory assigned to the Job Title listed on the application\n",
    "- `Offered_Salary_Adjusted`: Annual salary offered to the foreign worker beneficiary of the H1B application\n",
    "- `Prevailing_Salary_Adjusted`: Annual salary (prevailing wage) for similar jobs\n",
    "- `Census_2015`: Population census for the year 2015\n",
    "\n",
    "Annual salary has been adjusted to reflect regional inflation. "
   ]
  },
  {
   "cell_type": "markdown",
   "metadata": {},
   "source": [
    "## Load data"
   ]
  },
  {
   "cell_type": "markdown",
   "metadata": {},
   "source": [
    "Here's a snapshot of the dataset."
   ]
  },
  {
   "cell_type": "code",
   "execution_count": 1,
   "metadata": {
    "collapsed": false
   },
   "outputs": [
    {
     "name": "stdout",
     "output_type": "stream",
     "text": [
      "\n",
      "\n",
      "        Submitted_Date                                      Employer_Name  \\\n",
      "0  2006-10-02 08:35:53                                   IMCS GROUP, INC.   \n",
      "1  2006-10-02 08:53:34                       LG Electronics Alabama, Inc.   \n",
      "2  2006-10-02 09:04:25  Seacoast National Bank (First National Bank &t...   \n",
      "3  2006-10-02 09:16:18                             Seacoast National Bank   \n",
      "4  2006-10-02 10:11:06                       Northern Illinois University   \n",
      "\n",
      "   Work_City Work_State    Job_Category Work_State_Code  Price_Deflator  \\\n",
      "0  Santa Ana      Texas  market analyst              TX          102.90   \n",
      "1  Ft. Worth    Alabama  market analyst              AL           93.65   \n",
      "2     Stuart    Florida  market analyst              FL          105.35   \n",
      "3     Stuart    Florida  market analyst              FL          105.35   \n",
      "4     DeKalb   Illinois    data analyst              IL          107.50   \n",
      "\n",
      "   Offered_Salary_Adjusted  Prevailing_Salary_Adjusted  Census_2015  \n",
      "0             46647.230321                39558.794947   27469114.0  \n",
      "1             50570.208222                39667.912440    4858979.0  \n",
      "2             46131.941149                35756.051258   20271272.0  \n",
      "3             46131.941149                35756.051258   20271272.0  \n",
      "4             50835.348837                41542.325581   12859995.0  \n"
     ]
    }
   ],
   "source": [
    "# Load data\n",
    "import pandas as pd\n",
    "pd.options.mode.chained_assignment = None # For now, let's turn off panda's warning\n",
    "dsJobs = pd.read_csv(\"dataScienceJobs.csv\")\n",
    "print(\"\\n\")\n",
    "print(dsJobs.head())"
   ]
  },
  {
   "cell_type": "markdown",
   "metadata": {},
   "source": [
    "## Query data"
   ]
  },
  {
   "cell_type": "markdown",
   "metadata": {},
   "source": [
    "Let's find out the Top 10 states for data science related H1B jobs."
   ]
  },
  {
   "cell_type": "code",
   "execution_count": 2,
   "metadata": {
    "collapsed": false
   },
   "outputs": [
    {
     "name": "stdout",
     "output_type": "stream",
     "text": [
      "\n",
      "\n",
      "  Work_State_Code   Census_2015  Job_Per_10000\n",
      "0              DC  1.181105e+09      26.136965\n",
      "1              NJ  1.955982e+11      24.374825\n",
      "2              DE  1.555115e+09      17.379648\n",
      "3              NY  5.162544e+11      13.174013\n",
      "4              VA  8.342755e+10      11.871655\n",
      "5              MA  5.309841e+10      11.502082\n",
      "6              CT  1.447486e+10      11.225642\n",
      "7              CA  1.499599e+12       9.786481\n",
      "8              IL  1.388751e+11       8.397359\n",
      "9              MD  2.644018e+10       7.328848\n"
     ]
    }
   ],
   "source": [
    "data = dsJobs[[\"Work_State_Code\", \"Census_2015\"]]\n",
    "data[\"Job_Per_10000\"] = 10000 * (1 / data[\"Census_2015\"])\n",
    "data = data.groupby(['Work_State_Code']).sum()\n",
    "state_data = data.reset_index()\n",
    "state_data.sort_values(by=\"Job_Per_10000\", ascending=False, inplace=True)\n",
    "print(\"\\n\")\n",
    "print(state_data.head(10).reset_index(drop=True))"
   ]
  },
  {
   "cell_type": "markdown",
   "metadata": {
    "collapsed": true
   },
   "source": [
    "Except for Illinois (IL), all of these states are located either in the East Coast or the West Coast. In fact, East Coast states dominate.  "
   ]
  },
  {
   "cell_type": "markdown",
   "metadata": {},
   "source": [
    "Let's see the states that hold up the bottom end."
   ]
  },
  {
   "cell_type": "code",
   "execution_count": 3,
   "metadata": {
    "collapsed": false
   },
   "outputs": [
    {
     "name": "stdout",
     "output_type": "stream",
     "text": [
      "\n",
      "\n",
      "  Work_State_Code  Census_2015  Job_Per_10000\n",
      "0              MS  511688943.0       0.571460\n",
      "1              PW      20918.0       0.478057\n",
      "2              WV  149374368.0       0.439232\n",
      "3              PR  455117842.0       0.377067\n",
      "4              WY   12894354.0       0.375358\n",
      "5              AS     111038.0       0.360237\n",
      "6              MT   35120266.0       0.329155\n",
      "7              FM     207098.0       0.193145\n",
      "8              MH      52634.0       0.189991\n",
      "9              MP      53883.0       0.185587\n"
     ]
    }
   ],
   "source": [
    "print(\"\\n\")\n",
    "print(state_data.tail(10).reset_index(drop=True))"
   ]
  },
  {
   "cell_type": "markdown",
   "metadata": {},
   "source": [
    "It seems that U.S. territories dominate here."
   ]
  },
  {
   "cell_type": "markdown",
   "metadata": {},
   "source": [
    "## Map data"
   ]
  },
  {
   "cell_type": "markdown",
   "metadata": {},
   "source": [
    "Let's make an interactive D3.js graph in `plotly`."
   ]
  },
  {
   "cell_type": "code",
   "execution_count": 4,
   "metadata": {
    "collapsed": false
   },
   "outputs": [
    {
     "data": {
      "text/html": [
       "<iframe id=\"igraph\" scrolling=\"no\" style=\"border:none;\" seamless=\"seamless\" src=\"https://plot.ly/~samueledeh/2.embed\" height=\"525px\" width=\"100%\"></iframe>"
      ],
      "text/plain": [
       "<plotly.tools.PlotlyDisplay object>"
      ]
     },
     "execution_count": 4,
     "metadata": {},
     "output_type": "execute_result"
    }
   ],
   "source": [
    "# Learn about API authentication here: https://plot.ly/python/getting-started\n",
    "# Find your api_key here: https://plot.ly/settings/api\n",
    "import pandas as pd\n",
    "import plotly.plotly as py\n",
    "import plotly.tools as tls\n",
    "tls.set_credentials_file(username='samueledeh', api_key='2spdso18wk')\n",
    "\n",
    "scl = [[0.0, 'rgb(242,240,247)'],[0.2, 'rgb(218,218,235)'],[0.4, 'rgb(188,189,220)'],\\\n",
    "            [0.6, 'rgb(158,154,200)'],[0.8, 'rgb(117,107,177)'],[1.0, 'rgb(84,39,143)']]\n",
    "    \n",
    "data = [dict(\n",
    "    type='choropleth',\n",
    "    colorscale = scl,\n",
    "    autocolorscale = False,\n",
    "    locations = state_data.Work_State_Code,\n",
    "    z = state_data['Job_Per_10000'].astype(float),\n",
    "    locationmode = 'USA-states',\n",
    "    text = state_data.Work_State_Code,\n",
    "    hoverinfo = 'location+z',\n",
    "    marker = dict(\n",
    "        line = dict (\n",
    "            color = 'rgb(255,255,255)',\n",
    "            width = 2\n",
    "        )\n",
    "    ),\n",
    "    colorbar = dict(\n",
    "        title = \"# of H1B Jobs Per 10,000 inhabitants\"\n",
    "    )\n",
    ")]\n",
    "\n",
    "layout = dict(\n",
    "    title = 'Data science related Jobs<br>(Hover for breakdown)',\n",
    "    geo = dict(\n",
    "        scope='usa',\n",
    "        projection=dict( type='albers usa' ),\n",
    "        showlakes = True,\n",
    "        lakecolor = 'rgb(255, 255, 255)'\n",
    "    )\n",
    ")\n",
    "    \n",
    "fig = dict(data=data, layout=layout)\n",
    "\n",
    "py.iplot(fig, validate=False, filename='ds-jobs-map')"
   ]
  },
  {
   "cell_type": "markdown",
   "metadata": {},
   "source": [
    "Based on above plot (also available [here](https://plot.ly/2/~samueledeh/)), New Jersey is the hottest state for data science related H1B jobs followed by Delaware. New York is also very strong, finishing well ahead of California. In general, it seems that data science related H1B jobs are concentrated around the coasts of the U.S. With the exception of Illinois, Texas and Minnesota, the middle part of America seems relatively barren as far as data science related H1B jobs are concerned.  \n",
    "\n",
    "> ### The U.S. Coasts are the hotbeds for data science related jobs\n",
    "\n",
    "Are you in the job market for a data science related job? If so, well, you may have just gotten some relocation ideas lined up for you! Before you start packing though, let's finish this story in Tableau and find out the [Top paying states and companies for data science related jobs](https://public.tableau.com/views/top_paying_states_for_data_science/Story1?:embed=y&:display_count=yes&:showTabs=y). "
   ]
  }
 ],
 "metadata": {
  "kernelspec": {
   "display_name": "Python 2",
   "language": "python",
   "name": "python2"
  },
  "language_info": {
   "codemirror_mode": {
    "name": "ipython",
    "version": 2
   },
   "file_extension": ".py",
   "mimetype": "text/x-python",
   "name": "python",
   "nbconvert_exporter": "python",
   "pygments_lexer": "ipython2",
   "version": "2.7.11"
  }
 },
 "nbformat": 4,
 "nbformat_minor": 0
}
