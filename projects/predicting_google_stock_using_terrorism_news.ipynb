{
 "cells": [
  {
   "cell_type": "markdown",
   "metadata": {},
   "source": [
    "# Predicting Google Stock Using Terrorism News"
   ]
  },
  {
   "cell_type": "markdown",
   "metadata": {},
   "source": [
    "Machine learning is a big topic and it can seem intimidating for newcomers to data science. I suggest that it's not that hard to pick up the essentials. If you're getting started on your analytics journey or even if you've done it for a while but find it hard to wrap your head around machine learning concepts, this tutorial is for you.  We're going to attempt to predict Google stock prices using terrorism news. \n",
    "\n",
    "Given today's Google stock price information and the number of news articles and social media posts that mention \"terror\", we want to predict whether Google stock will open higher or lower the next day."
   ]
  },
  {
   "cell_type": "markdown",
   "metadata": {},
   "source": [
    "> ### Does terrorism news affect Google stock (GOOG) prices?"
   ]
  },
  {
   "cell_type": "markdown",
   "metadata": {},
   "source": [
    "You may have even wondered yourself whether terrorism news affect the stock market. Analytics project is all about asking some questions that intrigue you and then exploring how you might solve your questions using data. \n",
    "\n",
    "We're going to look at Google (now Alphabet) historical stock prices to answer this question. But before we begin, what is your intuition? Does terrorism news affect Google stock (GOOG) price? Take a moment to think about it and make your guess. We'll see where we come out. \n",
    "\n",
    "Let's get started."
   ]
  },
  {
   "cell_type": "markdown",
   "metadata": {},
   "source": [
    "## 1. What you need"
   ]
  },
  {
   "cell_type": "markdown",
   "metadata": {},
   "source": [
    "Python has some powerful tools that enable you to do machine learning on the fly. We're going to use Python 2.7 for this project (the eventregistry package we're going to use later is written in Python 2.7). You can get [a Python 2.7 distribution from Enthought Canopy](https://store.enthought.com/downloads/#default) already preloaded with a lot of the tools we're going to use. \n",
    "\n",
    "We're also going to install some additional packages as we go through the tutorial."
   ]
  },
  {
   "cell_type": "markdown",
   "metadata": {},
   "source": [
    "## 2. Introduction to the data"
   ]
  },
  {
   "cell_type": "markdown",
   "metadata": {},
   "source": [
    "We'll be using GOOG dataset from Yahoo! Finance. We'll also use data from [EventRegistry.org](http://eventregistry.org/). EventRegistry collects and processes news articles and social media data from around the world allowing you to search for articles and events. It also allows you to get trends and do sentiment analysis. \n"
   ]
  },
  {
   "cell_type": "markdown",
   "metadata": {},
   "source": [
    "### GOOG dataset"
   ]
  },
  {
   "cell_type": "code",
   "execution_count": 1,
   "metadata": {
    "collapsed": false
   },
   "outputs": [],
   "source": [
    "# Import modules we need to read in GOOG dataset\n",
    "import csv\n",
    "import urllib2\n",
    "import pandas as pd\n",
    "\n",
    "# We'll look at data from the beginning of 2016\n",
    "url = 'http://real-chart.finance.yahoo.com/table.csv?s=GOOG&a=00&b=5&c=2016&d=05&e=29&f=2016&g=d&ignore=.csv'\n",
    "response = urllib2.urlopen(url)\n",
    "goog_df = pd.read_csv(response)"
   ]
  },
  {
   "cell_type": "markdown",
   "metadata": {},
   "source": [
    "Here's what the data looks like."
   ]
  },
  {
   "cell_type": "code",
   "execution_count": 2,
   "metadata": {
    "collapsed": false
   },
   "outputs": [
    {
     "data": {
      "text/html": [
       "<div>\n",
       "<table border=\"1\" class=\"dataframe\">\n",
       "  <thead>\n",
       "    <tr style=\"text-align: right;\">\n",
       "      <th></th>\n",
       "      <th>Date</th>\n",
       "      <th>Open</th>\n",
       "      <th>High</th>\n",
       "      <th>Low</th>\n",
       "      <th>Close</th>\n",
       "      <th>Volume</th>\n",
       "      <th>Adj Close</th>\n",
       "    </tr>\n",
       "  </thead>\n",
       "  <tbody>\n",
       "    <tr>\n",
       "      <th>0</th>\n",
       "      <td>2016-06-29</td>\n",
       "      <td>683.000000</td>\n",
       "      <td>687.429016</td>\n",
       "      <td>681.409973</td>\n",
       "      <td>684.109985</td>\n",
       "      <td>1928500</td>\n",
       "      <td>684.109985</td>\n",
       "    </tr>\n",
       "    <tr>\n",
       "      <th>1</th>\n",
       "      <td>2016-06-28</td>\n",
       "      <td>678.969971</td>\n",
       "      <td>680.330017</td>\n",
       "      <td>673.000000</td>\n",
       "      <td>680.039978</td>\n",
       "      <td>2116600</td>\n",
       "      <td>680.039978</td>\n",
       "    </tr>\n",
       "    <tr>\n",
       "      <th>2</th>\n",
       "      <td>2016-06-27</td>\n",
       "      <td>671.000000</td>\n",
       "      <td>672.299988</td>\n",
       "      <td>663.283997</td>\n",
       "      <td>668.260010</td>\n",
       "      <td>2629000</td>\n",
       "      <td>668.260010</td>\n",
       "    </tr>\n",
       "    <tr>\n",
       "      <th>3</th>\n",
       "      <td>2016-06-24</td>\n",
       "      <td>675.169983</td>\n",
       "      <td>689.400024</td>\n",
       "      <td>673.450012</td>\n",
       "      <td>675.219971</td>\n",
       "      <td>4399800</td>\n",
       "      <td>675.219971</td>\n",
       "    </tr>\n",
       "    <tr>\n",
       "      <th>4</th>\n",
       "      <td>2016-06-23</td>\n",
       "      <td>697.450012</td>\n",
       "      <td>701.950012</td>\n",
       "      <td>687.000000</td>\n",
       "      <td>701.869995</td>\n",
       "      <td>2157400</td>\n",
       "      <td>701.869995</td>\n",
       "    </tr>\n",
       "  </tbody>\n",
       "</table>\n",
       "</div>"
      ],
      "text/plain": [
       "         Date        Open        High         Low       Close   Volume  \\\n",
       "0  2016-06-29  683.000000  687.429016  681.409973  684.109985  1928500   \n",
       "1  2016-06-28  678.969971  680.330017  673.000000  680.039978  2116600   \n",
       "2  2016-06-27  671.000000  672.299988  663.283997  668.260010  2629000   \n",
       "3  2016-06-24  675.169983  689.400024  673.450012  675.219971  4399800   \n",
       "4  2016-06-23  697.450012  701.950012  687.000000  701.869995  2157400   \n",
       "\n",
       "    Adj Close  \n",
       "0  684.109985  \n",
       "1  680.039978  \n",
       "2  668.260010  \n",
       "3  675.219971  \n",
       "4  701.869995  "
      ]
     },
     "execution_count": 2,
     "metadata": {},
     "output_type": "execute_result"
    }
   ],
   "source": [
    "goog_df.head(5)"
   ]
  },
  {
   "cell_type": "markdown",
   "metadata": {
    "collapsed": false
   },
   "source": [
    "Let's process the data to get it in the correct format for the machine learning algorithms we'll use later.\n",
    "\n",
    "`pandas` and `numpy` are commonly used Python packages to process and analyze data. Let's import `pandas` now and use it to process the data."
   ]
  },
  {
   "cell_type": "code",
   "execution_count": 3,
   "metadata": {
    "collapsed": false
   },
   "outputs": [
    {
     "data": {
      "text/plain": [
       "122"
      ]
     },
     "execution_count": 3,
     "metadata": {},
     "output_type": "execute_result"
    }
   ],
   "source": [
    "# It's common to get a lot of warnings when slicing pandas datasets\n",
    "# We'll turn off the warnings for this tutorial \n",
    "pd.options.mode.chained_assignment = None\n",
    "\n",
    "# Create a column, Next_Day, with the next day's opening price\n",
    "next_day = goog_df[\"Open\"].iloc[1:]\n",
    "goog = goog_df.iloc[:-1,:]\n",
    "goog[\"Next_Day\"] = next_day.values\n",
    "len(goog)"
   ]
  },
  {
   "cell_type": "markdown",
   "metadata": {},
   "source": [
    "As you can see, we've 122 days worth of historical prices. Let's visualize the data."
   ]
  },
  {
   "cell_type": "code",
   "execution_count": 4,
   "metadata": {
    "collapsed": false
   },
   "outputs": [
    {
     "data": {
      "image/png": "[encoded data removed]",
      "text/plain": [
       "<matplotlib.figure.Figure at 0x8398780>"
      ]
     },
     "metadata": {},
     "output_type": "display_data"
    }
   ],
   "source": [
    "# Import modules we need to plot the data\n",
    "import datetime as dt\n",
    "import matplotlib.pyplot as plt\n",
    "%matplotlib inline\n",
    "import matplotlib.dates as mdates\n",
    "\n",
    "# Plot the data\n",
    "days = list(goog_df['Date'])\n",
    "opening = list(goog_df['Open'])\n",
    "days = [dt.datetime.strptime(d,'%Y-%m-%d').date() for d in days]\n",
    "plt.gca().xaxis.set_major_formatter(mdates.DateFormatter('%Y-%m-%d'))\n",
    "plt.gca().xaxis.set_major_locator(mdates.MonthLocator())\n",
    "plt.plot(days,opening, color=\"r\")\n",
    "plt.gcf().autofmt_xdate()\n",
    "\n",
    "# Label the plot\n",
    "plt.title(\"Google (GOOG) Opening Prices\")\n",
    "plt.ylabel(\"Price (in $100)\")\n",
    "plt.grid(True)\n",
    "plt.show()"
   ]
  },
  {
   "cell_type": "markdown",
   "metadata": {},
   "source": [
    "As you might expect, the stock goes up and down a lot. If stock prices were easy to predict, it won't be such a hot topic. Now, though, we can add out own voice to the debate."
   ]
  },
  {
   "cell_type": "markdown",
   "metadata": {},
   "source": [
    "### Terrorism dataset"
   ]
  },
  {
   "cell_type": "markdown",
   "metadata": {},
   "source": [
    "\n",
    "Next, we'll get terrorism data from EventRegistry (ER). Essentially, we're using an application programming interface (API) provided by ER to get the `count` of new articles that contain terrorism news. We'll call this dataset `newsScore`. We'll also do the same thing for social media posts and call it `socialScore`.\n",
    "\n",
    "I'm providing 2 options to pull this data.\n",
    "\n",
    "Just uncomment the code for the option you prefer and run the code. "
   ]
  },
  {
   "cell_type": "markdown",
   "metadata": {},
   "source": [
    "#### Option 1"
   ]
  },
  {
   "cell_type": "markdown",
   "metadata": {},
   "source": [
    "You can pull the data directly from ER website using below code but you need to sign up at [eventregistry.org](http://eventregistry.org/register?redirectUrl=/searchEvents) and enter your username and password in the code. The username and password should be in quotes, e.g. `'myname@gmail.com'` and `'mypassword'`. Sign up is free! You can read more about using eventregistry API [here](https://github.com/gregorleban/EventRegistry/wiki). \n",
    "\n",
    "I'll warn you that pulling the data directly will take a fews minutes. Don't worry if you get a lot of printouts on your screen, saying: Event Registry host: http://eventregistry.org.\n",
    "\n",
    "Option 1 code is immediately below. \n"
   ]
  },
  {
   "cell_type": "code",
   "execution_count": 5,
   "metadata": {
    "collapsed": false
   },
   "outputs": [],
   "source": [
    "#!pip install eventregistry\n",
    "# from eventregistry import *\n",
    "\n",
    "# def getScore(day, category, concept):\n",
    "#     er = EventRegistry()\n",
    "#     #er.login('username', 'password')\n",
    "#     q = GetCounts(er.getConceptUri(concept), \n",
    "#                    source = category,\n",
    "#                    startDate = day, \n",
    "#                    endDate = day)\n",
    "#     return er.execQuery(q).values()[0][0][\"count\"]\n",
    "\n",
    "# dates = []\n",
    "\n",
    "# newsScore = []\n",
    "# counter = 0\n",
    "# for index, row in goog.iterrows():\n",
    "#     dates.append(row[0])\n",
    "#     newsScore.append(getScore(row[0], \"news\", \"terror\"))\n",
    "   \n",
    "   \n",
    "# socialScore = []\n",
    "# for index, row in goog.iterrows():\n",
    "#     socialScore.append(getScore(row[0], \"social\", \"terror\"))\n",
    "\n",
    "# terrorScores = pd.DataFrame({\"Date\" : dates, \n",
    "#                              'newsScore' : newsScore,\n",
    "#                              'socialScore' : socialScore})\n",
    "\n",
    "# cPickle.dump(terrorScores, open('terrorScores', 'wb')) #You can save and later reuse the data"
   ]
  },
  {
   "cell_type": "markdown",
   "metadata": {},
   "source": [
    "#### Option 2"
   ]
  },
  {
   "cell_type": "markdown",
   "metadata": {},
   "source": [
    "You can use the dataset I already downloaded which is located [here](https://github.com/sedeh/resources). Specifically, download `terrorScores` and save it in the same folder where this jupyter notebook (.ipynb) file is located. Option 2 code is immediately below.\n"
   ]
  },
  {
   "cell_type": "code",
   "execution_count": 6,
   "metadata": {
    "collapsed": false
   },
   "outputs": [],
   "source": [
    "#import cPickle\n",
    "#terrorScores = cPickle.load(open('terrorScores', 'rb'))"
   ]
  },
  {
   "cell_type": "markdown",
   "metadata": {},
   "source": [
    "`socialScore` and `newsScore` look like this."
   ]
  },
  {
   "cell_type": "code",
   "execution_count": 7,
   "metadata": {
    "collapsed": false
   },
   "outputs": [
    {
     "data": {
      "text/html": [
       "<div>\n",
       "<table border=\"1\" class=\"dataframe\">\n",
       "  <thead>\n",
       "    <tr style=\"text-align: right;\">\n",
       "      <th></th>\n",
       "      <th>Date</th>\n",
       "      <th>newsScore</th>\n",
       "      <th>socialScore</th>\n",
       "    </tr>\n",
       "  </thead>\n",
       "  <tbody>\n",
       "    <tr>\n",
       "      <th>0</th>\n",
       "      <td>2016-06-29</td>\n",
       "      <td>10100</td>\n",
       "      <td>238728</td>\n",
       "    </tr>\n",
       "    <tr>\n",
       "      <th>1</th>\n",
       "      <td>2016-06-28</td>\n",
       "      <td>5731</td>\n",
       "      <td>174572</td>\n",
       "    </tr>\n",
       "    <tr>\n",
       "      <th>2</th>\n",
       "      <td>2016-06-27</td>\n",
       "      <td>3256</td>\n",
       "      <td>103334</td>\n",
       "    </tr>\n",
       "    <tr>\n",
       "      <th>3</th>\n",
       "      <td>2016-06-24</td>\n",
       "      <td>2768</td>\n",
       "      <td>91819</td>\n",
       "    </tr>\n",
       "    <tr>\n",
       "      <th>4</th>\n",
       "      <td>2016-06-23</td>\n",
       "      <td>4414</td>\n",
       "      <td>94415</td>\n",
       "    </tr>\n",
       "  </tbody>\n",
       "</table>\n",
       "</div>"
      ],
      "text/plain": [
       "         Date  newsScore  socialScore\n",
       "0  2016-06-29      10100       238728\n",
       "1  2016-06-28       5731       174572\n",
       "2  2016-06-27       3256       103334\n",
       "3  2016-06-24       2768        91819\n",
       "4  2016-06-23       4414        94415"
      ]
     },
     "execution_count": 7,
     "metadata": {},
     "output_type": "execute_result"
    }
   ],
   "source": [
    "terrorScores.head(5)"
   ]
  },
  {
   "cell_type": "markdown",
   "metadata": {},
   "source": [
    "Similar to `GOOG` dataset, we can visualize `newsScore` and `socialScore`."
   ]
  },
  {
   "cell_type": "code",
   "execution_count": 8,
   "metadata": {
    "collapsed": false
   },
   "outputs": [
    {
     "data": {
      "image/png": "[encoded data removed]",
      "text/plain": [
       "<matplotlib.figure.Figure at 0x7744d68>"
      ]
     },
     "metadata": {},
     "output_type": "display_data"
    }
   ],
   "source": [
    "# Load data from terrorScore dataset\n",
    "dates = terrorScores[\"Date\"]\n",
    "socialScore = terrorScores[\"socialScore\"]\n",
    "newsScore = terrorScores[\"newsScore\"]\n",
    "\n",
    "# Plot the data\n",
    "dates = [dt.datetime.strptime(d,'%Y-%m-%d').date() for d in dates]\n",
    "plt.gca().xaxis.set_major_formatter(mdates.DateFormatter('%Y-%m-%d'))\n",
    "plt.gca().xaxis.set_major_locator(mdates.MonthLocator())\n",
    "plt.plot(dates,newsScore, color=\"r\", label='newsScore')\n",
    "plt.plot(dates,socialScore, color=\"b\", label='socialScore')\n",
    "plt.gcf().autofmt_xdate()\n",
    "\n",
    "# Label the plot\n",
    "plt.title(\"Terrorism Concept in News Articles / Social Media\")\n",
    "plt.ylabel(\"Number of Events (in 1000)\")\n",
    "plt.legend(loc='upper left')\n",
    "plt.grid(True)\n",
    "plt.show()"
   ]
  },
  {
   "cell_type": "markdown",
   "metadata": {},
   "source": [
    "There seems to be a lot more terrorism mentions on social media than in news articles. \n",
    "\n",
    "Now that we've both datasets, `GOOG` and `terrorism` datasets, we can combine them into one dataset, `goog_X`. "
   ]
  },
  {
   "cell_type": "code",
   "execution_count": 9,
   "metadata": {
    "collapsed": false
   },
   "outputs": [],
   "source": [
    "goog_X = pd.merge(goog, terrorScores, how='inner', on=['Date'])"
   ]
  },
  {
   "cell_type": "markdown",
   "metadata": {},
   "source": [
    "Here's what the dataset looks like."
   ]
  },
  {
   "cell_type": "code",
   "execution_count": 10,
   "metadata": {
    "collapsed": false
   },
   "outputs": [
    {
     "data": {
      "text/html": [
       "<div>\n",
       "<table border=\"1\" class=\"dataframe\">\n",
       "  <thead>\n",
       "    <tr style=\"text-align: right;\">\n",
       "      <th></th>\n",
       "      <th>Date</th>\n",
       "      <th>Open</th>\n",
       "      <th>High</th>\n",
       "      <th>Low</th>\n",
       "      <th>Close</th>\n",
       "      <th>Volume</th>\n",
       "      <th>Adj Close</th>\n",
       "      <th>Next_Day</th>\n",
       "      <th>newsScore</th>\n",
       "      <th>socialScore</th>\n",
       "    </tr>\n",
       "  </thead>\n",
       "  <tbody>\n",
       "    <tr>\n",
       "      <th>0</th>\n",
       "      <td>2016-06-29</td>\n",
       "      <td>683.000000</td>\n",
       "      <td>687.429016</td>\n",
       "      <td>681.409973</td>\n",
       "      <td>684.109985</td>\n",
       "      <td>1928500</td>\n",
       "      <td>684.109985</td>\n",
       "      <td>678.969971</td>\n",
       "      <td>10100</td>\n",
       "      <td>238728</td>\n",
       "    </tr>\n",
       "    <tr>\n",
       "      <th>1</th>\n",
       "      <td>2016-06-28</td>\n",
       "      <td>678.969971</td>\n",
       "      <td>680.330017</td>\n",
       "      <td>673.000000</td>\n",
       "      <td>680.039978</td>\n",
       "      <td>2116600</td>\n",
       "      <td>680.039978</td>\n",
       "      <td>671.000000</td>\n",
       "      <td>5731</td>\n",
       "      <td>174572</td>\n",
       "    </tr>\n",
       "    <tr>\n",
       "      <th>2</th>\n",
       "      <td>2016-06-27</td>\n",
       "      <td>671.000000</td>\n",
       "      <td>672.299988</td>\n",
       "      <td>663.283997</td>\n",
       "      <td>668.260010</td>\n",
       "      <td>2629000</td>\n",
       "      <td>668.260010</td>\n",
       "      <td>675.169983</td>\n",
       "      <td>3256</td>\n",
       "      <td>103334</td>\n",
       "    </tr>\n",
       "    <tr>\n",
       "      <th>3</th>\n",
       "      <td>2016-06-24</td>\n",
       "      <td>675.169983</td>\n",
       "      <td>689.400024</td>\n",
       "      <td>673.450012</td>\n",
       "      <td>675.219971</td>\n",
       "      <td>4399800</td>\n",
       "      <td>675.219971</td>\n",
       "      <td>697.450012</td>\n",
       "      <td>2768</td>\n",
       "      <td>91819</td>\n",
       "    </tr>\n",
       "    <tr>\n",
       "      <th>4</th>\n",
       "      <td>2016-06-23</td>\n",
       "      <td>697.450012</td>\n",
       "      <td>701.950012</td>\n",
       "      <td>687.000000</td>\n",
       "      <td>701.869995</td>\n",
       "      <td>2157400</td>\n",
       "      <td>701.869995</td>\n",
       "      <td>699.059998</td>\n",
       "      <td>4414</td>\n",
       "      <td>94415</td>\n",
       "    </tr>\n",
       "  </tbody>\n",
       "</table>\n",
       "</div>"
      ],
      "text/plain": [
       "         Date        Open        High         Low       Close   Volume  \\\n",
       "0  2016-06-29  683.000000  687.429016  681.409973  684.109985  1928500   \n",
       "1  2016-06-28  678.969971  680.330017  673.000000  680.039978  2116600   \n",
       "2  2016-06-27  671.000000  672.299988  663.283997  668.260010  2629000   \n",
       "3  2016-06-24  675.169983  689.400024  673.450012  675.219971  4399800   \n",
       "4  2016-06-23  697.450012  701.950012  687.000000  701.869995  2157400   \n",
       "\n",
       "    Adj Close    Next_Day  newsScore  socialScore  \n",
       "0  684.109985  678.969971      10100       238728  \n",
       "1  680.039978  671.000000       5731       174572  \n",
       "2  668.260010  675.169983       3256       103334  \n",
       "3  675.219971  697.450012       2768        91819  \n",
       "4  701.869995  699.059998       4414        94415  "
      ]
     },
     "execution_count": 10,
     "metadata": {},
     "output_type": "execute_result"
    }
   ],
   "source": [
    "goog_X.head(5)"
   ]
  },
  {
   "cell_type": "markdown",
   "metadata": {},
   "source": [
    "Let's see if we've any missing values."
   ]
  },
  {
   "cell_type": "code",
   "execution_count": 11,
   "metadata": {
    "collapsed": false
   },
   "outputs": [
    {
     "data": {
      "text/html": [
       "<div>\n",
       "<table border=\"1\" class=\"dataframe\">\n",
       "  <thead>\n",
       "    <tr style=\"text-align: right;\">\n",
       "      <th></th>\n",
       "      <th>Date</th>\n",
       "      <th>Open</th>\n",
       "      <th>High</th>\n",
       "      <th>Low</th>\n",
       "      <th>Close</th>\n",
       "      <th>Volume</th>\n",
       "      <th>Adj Close</th>\n",
       "      <th>Next_Day</th>\n",
       "      <th>newsScore</th>\n",
       "      <th>socialScore</th>\n",
       "    </tr>\n",
       "  </thead>\n",
       "  <tbody>\n",
       "  </tbody>\n",
       "</table>\n",
       "</div>"
      ],
      "text/plain": [
       "Empty DataFrame\n",
       "Columns: [Date, Open, High, Low, Close, Volume, Adj Close, Next_Day, newsScore, socialScore]\n",
       "Index: []"
      ]
     },
     "execution_count": 11,
     "metadata": {},
     "output_type": "execute_result"
    }
   ],
   "source": [
    "goog_X.loc[(goog_X['Open'].isnull()) |\n",
    "              (goog_X['High'].isnull()) |\n",
    "              (goog_X['Low'].isnull()) |\n",
    "              (goog_X['Close'].isnull()) |\n",
    "              (goog_X['Volume'].isnull()) |\n",
    "              (goog_X['Adj Close'].isnull()) |\n",
    "              (goog_X['Next_Day'].isnull()) |\n",
    "              (goog_X['newsScore'].isnull())|\n",
    "              (goog_X['socialScore'].isnull())]"
   ]
  },
  {
   "cell_type": "markdown",
   "metadata": {},
   "source": [
    "Great, we don't have any rows with missing values!"
   ]
  },
  {
   "cell_type": "markdown",
   "metadata": {},
   "source": [
    "## 3. Label the data"
   ]
  },
  {
   "cell_type": "markdown",
   "metadata": {},
   "source": [
    "We're ready to label our data. Each row in the dataset is called an `observation`. The columns contain `features` which relate to GOOG stock in some way. The `features` are also known as `predictors`. Each `observation` will get a `label` as follows. If the stock opens higher the next day, we'll label it as 1. Otherwise, we'll label it as 0.  "
   ]
  },
  {
   "cell_type": "code",
   "execution_count": 12,
   "metadata": {
    "collapsed": false
   },
   "outputs": [],
   "source": [
    "# Create labels\n",
    "nextDayOpen = []\n",
    "\n",
    "for index, row in goog.iterrows():\n",
    "    if row['Next_Day'] > row['Open']:\n",
    "        nextDayOpen.append(1)\n",
    "    else:\n",
    "        nextDayOpen.append(0)\n",
    "        \n",
    "import numpy as np\n",
    "goog_y = np.asarray(nextDayOpen)"
   ]
  },
  {
   "cell_type": "markdown",
   "metadata": {},
   "source": [
    "## 4. Split the data into training and testing sets"
   ]
  },
  {
   "cell_type": "markdown",
   "metadata": {},
   "source": [
    "A good practice in machine learning is to split your dataset into \n",
    "\n",
    "- a training set -- which we use to train the classifer,\n",
    "\n",
    "- a test set -- which we use to evaluate the classifier's performance.\n",
    "\n",
    "This is called `cross-validation`. It helps to avoid `overfitting` which happens when your model sort of just \"crams\" the pattern in your data. It does not learn anything and it performs poorly when it sees new data. A good rule of thumb is to train the model on **70%** of your data or more and test it on the rest. This is key concept to remember in your data science journey.\n",
    "\n",
    "Another good practice is to randomize your data before splitting. "
   ]
  },
  {
   "cell_type": "markdown",
   "metadata": {},
   "source": [
    "> ### Train the classifier on 70% of your data or more and test it on the rest\n",
    "> *Do randomize your data before splitting*"
   ]
  },
  {
   "cell_type": "markdown",
   "metadata": {},
   "source": [
    "First, let's remove `Date` column because there's no good way to use it in our classifier. We should also remove `Next_Day` column. Otherwise, we would be giving the model the information it's trying to predict. Of course, it will perform perfectly in that scenario!"
   ]
  },
  {
   "cell_type": "code",
   "execution_count": 13,
   "metadata": {
    "collapsed": true
   },
   "outputs": [],
   "source": [
    "goog_X.drop('Date', inplace=True, axis=1)\n",
    "goog_X.drop('Next_Day', inplace=True, axis=1)"
   ]
  },
  {
   "cell_type": "markdown",
   "metadata": {},
   "source": [
    "We added `labels` to our data earlier. As the name implies, let's now use the `predictors` to try to predict the `labels`. In other words, given an `observation` (opening price, closing price, volume sold, adjusted price, newsScore, socialScore, etc.), will the stock open higher or lower the next day?\n",
    "\n",
    "With the preambles out of the way, let's **randomize** and then **split** the data. We're in luck because there's a Python package for that!\n",
    "\n",
    "The package is part of `sklearn`, Python's powerful machine learning library. If you don't already have it installed, uncomment the first line of code below and execute it with the rest of the code."
   ]
  },
  {
   "cell_type": "code",
   "execution_count": 14,
   "metadata": {
    "collapsed": false
   },
   "outputs": [],
   "source": [
    "#!pip install sklearn \n",
    "from sklearn.cross_validation import train_test_split\n",
    "\n",
    "# Convert pandas data frame to numpy matrix array (format required for sklearn algorithms)\n",
    "goog_X = goog_X.as_matrix()\n",
    "\n",
    "# Split the data\n",
    "(goog_X_train,\n",
    " goog_X_test,\n",
    " goog_y_train,\n",
    " goog_y_test) = train_test_split(goog_X, goog_y, train_size=0.8, random_state=1)"
   ]
  },
  {
   "cell_type": "markdown",
   "metadata": {},
   "source": [
    "## 5. Logistic Regression"
   ]
  },
  {
   "cell_type": "markdown",
   "metadata": {},
   "source": [
    "As you can see from above, usually, most of your time ([some estimate 70% or more](https://twitter.com/bigdataborat/status/306596352991830016)) is spent on getting and preparing your data. So get used to the [\"janitor work\"](http://www.nytimes.com/2014/08/18/technology/for-big-data-scientists-hurdle-to-insights-is-janitor-work.html?_r=0), it's good for your data science muscles!\n",
    "\n",
    "A simple yet powerful machine learning algorithm is logistic regression. It's sort of the linear equation you learned in high school, $y = mx + b$. You feed your input, $x$, into the linear function and it spits out an output, $y$. \n",
    "\n",
    "Instead of a linear function, logistic regression uses a sigmoid function to give a binary output, 1 or 0. In reality, it produces a probability. As you also remember from your high school math, probability is between 0 and 1. In logistic regression, the default threshold is set at 0.5. This means that if the probability is less than 0.5, well, the model outputs 0. If equal or greater than 0.5, it outputs 1. \n",
    "\n",
    "Easy enough. If you are still curious, here's what the sigmoid function looks like."
   ]
  },
  {
   "cell_type": "code",
   "execution_count": 15,
   "metadata": {
    "collapsed": false
   },
   "outputs": [
    {
     "data": {
      "image/png": "[encoded data removed]",
      "text/plain": [
       "<matplotlib.figure.Figure at 0xa31c5f8>"
      ]
     },
     "metadata": {},
     "output_type": "display_data"
    }
   ],
   "source": [
    "# Logit Function\n",
    "def logit(x):\n",
    "    # np.exp(x) raises x to the exponential power, ie e^x. e ~= 2.71828\n",
    "    return np.exp(x)  / (1 + np.exp(x)) \n",
    "    \n",
    "# Generate 50 real values, evenly spaced, between -6 and 6.\n",
    "x = np.linspace(-6,6,50, dtype=float)\n",
    "\n",
    "# Transform each number in t using the logit function.\n",
    "y = logit(x)\n",
    "\n",
    "# Plot the resulting data.\n",
    "plt.plot(x, y)\n",
    "plt.ylabel(\"Probability\")\n",
    "plt.show()"
   ]
  },
  {
   "cell_type": "markdown",
   "metadata": {},
   "source": [
    "Now, let's build our model.\n",
    "\n",
    "First, we `fit` the model with our training dataset containing `predictors` and `labels`. Essentially, we're coaching the model: if I give you this set of `predictors`, you should predict this `label` and so on. \n"
   ]
  },
  {
   "cell_type": "code",
   "execution_count": 16,
   "metadata": {
    "collapsed": false
   },
   "outputs": [
    {
     "data": {
      "text/plain": [
       "LogisticRegression(C=1.0, class_weight=None, dual=False, fit_intercept=True,\n",
       "          intercept_scaling=1, max_iter=100, multi_class='ovr', n_jobs=1,\n",
       "          penalty='l2', random_state=None, solver='liblinear', tol=0.0001,\n",
       "          verbose=0, warm_start=False)"
      ]
     },
     "execution_count": 16,
     "metadata": {},
     "output_type": "execute_result"
    }
   ],
   "source": [
    "from sklearn.linear_model import LogisticRegression\n",
    "model = LogisticRegression()\n",
    "model.fit(goog_X_train, goog_y_train)"
   ]
  },
  {
   "cell_type": "markdown",
   "metadata": {},
   "source": [
    "Now that the model is `\"trained\"`, we can use it to make predictions. We pass in the test `predictors` and evaluate how well the model does at predicting the corresponding test `labels`."
   ]
  },
  {
   "cell_type": "code",
   "execution_count": 17,
   "metadata": {
    "collapsed": false
   },
   "outputs": [],
   "source": [
    "predicted_labels = model.predict(goog_X_test)\n"
   ]
  },
  {
   "cell_type": "markdown",
   "metadata": {},
   "source": [
    "Here' a side by side display of the predicted labels and the actual labels."
   ]
  },
  {
   "cell_type": "code",
   "execution_count": 18,
   "metadata": {
    "collapsed": false
   },
   "outputs": [
    {
     "data": {
      "text/html": [
       "<div>\n",
       "<table border=\"1\" class=\"dataframe\">\n",
       "  <thead>\n",
       "    <tr style=\"text-align: right;\">\n",
       "      <th></th>\n",
       "      <th>actual_label</th>\n",
       "      <th>predicted_label</th>\n",
       "    </tr>\n",
       "  </thead>\n",
       "  <tbody>\n",
       "    <tr>\n",
       "      <th>0</th>\n",
       "      <td>1</td>\n",
       "      <td>0</td>\n",
       "    </tr>\n",
       "    <tr>\n",
       "      <th>1</th>\n",
       "      <td>1</td>\n",
       "      <td>1</td>\n",
       "    </tr>\n",
       "    <tr>\n",
       "      <th>2</th>\n",
       "      <td>1</td>\n",
       "      <td>0</td>\n",
       "    </tr>\n",
       "    <tr>\n",
       "      <th>3</th>\n",
       "      <td>0</td>\n",
       "      <td>1</td>\n",
       "    </tr>\n",
       "    <tr>\n",
       "      <th>4</th>\n",
       "      <td>0</td>\n",
       "      <td>0</td>\n",
       "    </tr>\n",
       "    <tr>\n",
       "      <th>5</th>\n",
       "      <td>1</td>\n",
       "      <td>1</td>\n",
       "    </tr>\n",
       "    <tr>\n",
       "      <th>6</th>\n",
       "      <td>1</td>\n",
       "      <td>0</td>\n",
       "    </tr>\n",
       "    <tr>\n",
       "      <th>7</th>\n",
       "      <td>1</td>\n",
       "      <td>0</td>\n",
       "    </tr>\n",
       "    <tr>\n",
       "      <th>8</th>\n",
       "      <td>0</td>\n",
       "      <td>0</td>\n",
       "    </tr>\n",
       "    <tr>\n",
       "      <th>9</th>\n",
       "      <td>0</td>\n",
       "      <td>0</td>\n",
       "    </tr>\n",
       "    <tr>\n",
       "      <th>10</th>\n",
       "      <td>0</td>\n",
       "      <td>1</td>\n",
       "    </tr>\n",
       "    <tr>\n",
       "      <th>11</th>\n",
       "      <td>1</td>\n",
       "      <td>1</td>\n",
       "    </tr>\n",
       "    <tr>\n",
       "      <th>12</th>\n",
       "      <td>1</td>\n",
       "      <td>1</td>\n",
       "    </tr>\n",
       "    <tr>\n",
       "      <th>13</th>\n",
       "      <td>1</td>\n",
       "      <td>1</td>\n",
       "    </tr>\n",
       "    <tr>\n",
       "      <th>14</th>\n",
       "      <td>0</td>\n",
       "      <td>1</td>\n",
       "    </tr>\n",
       "    <tr>\n",
       "      <th>15</th>\n",
       "      <td>0</td>\n",
       "      <td>1</td>\n",
       "    </tr>\n",
       "    <tr>\n",
       "      <th>16</th>\n",
       "      <td>1</td>\n",
       "      <td>1</td>\n",
       "    </tr>\n",
       "    <tr>\n",
       "      <th>17</th>\n",
       "      <td>1</td>\n",
       "      <td>0</td>\n",
       "    </tr>\n",
       "    <tr>\n",
       "      <th>18</th>\n",
       "      <td>1</td>\n",
       "      <td>0</td>\n",
       "    </tr>\n",
       "    <tr>\n",
       "      <th>19</th>\n",
       "      <td>0</td>\n",
       "      <td>0</td>\n",
       "    </tr>\n",
       "    <tr>\n",
       "      <th>20</th>\n",
       "      <td>1</td>\n",
       "      <td>0</td>\n",
       "    </tr>\n",
       "    <tr>\n",
       "      <th>21</th>\n",
       "      <td>0</td>\n",
       "      <td>0</td>\n",
       "    </tr>\n",
       "    <tr>\n",
       "      <th>22</th>\n",
       "      <td>1</td>\n",
       "      <td>0</td>\n",
       "    </tr>\n",
       "    <tr>\n",
       "      <th>23</th>\n",
       "      <td>1</td>\n",
       "      <td>0</td>\n",
       "    </tr>\n",
       "    <tr>\n",
       "      <th>24</th>\n",
       "      <td>1</td>\n",
       "      <td>1</td>\n",
       "    </tr>\n",
       "  </tbody>\n",
       "</table>\n",
       "</div>"
      ],
      "text/plain": [
       "    actual_label  predicted_label\n",
       "0              1                0\n",
       "1              1                1\n",
       "2              1                0\n",
       "3              0                1\n",
       "4              0                0\n",
       "5              1                1\n",
       "6              1                0\n",
       "7              1                0\n",
       "8              0                0\n",
       "9              0                0\n",
       "10             0                1\n",
       "11             1                1\n",
       "12             1                1\n",
       "13             1                1\n",
       "14             0                1\n",
       "15             0                1\n",
       "16             1                1\n",
       "17             1                0\n",
       "18             1                0\n",
       "19             0                0\n",
       "20             1                0\n",
       "21             0                0\n",
       "22             1                0\n",
       "23             1                0\n",
       "24             1                1"
      ]
     },
     "execution_count": 18,
     "metadata": {},
     "output_type": "execute_result"
    }
   ],
   "source": [
    "labels = pd.DataFrame({\"actual_label\" : goog_y_test, \n",
    "                        \"predicted_label\" : predicted_labels})\n",
    "labels"
   ]
  },
  {
   "cell_type": "markdown",
   "metadata": {},
   "source": [
    "Let's compute some evaluation metrics to assess the model. There's a great variety of [model evaluation metrics](http://scikit-learn.org/stable/modules/model_evaluation.html) used to assess the performance of a model. We're going to focus on 3 of the commonly used metrics: `accuracy`, `sensitivity` and `specificity`."
   ]
  },
  {
   "cell_type": "markdown",
   "metadata": {},
   "source": [
    "## 6. Accuracy"
   ]
  },
  {
   "cell_type": "markdown",
   "metadata": {},
   "source": [
    "In a nutshell, `accuracy` tells you what fraction of the predictons were correct."
   ]
  },
  {
   "cell_type": "markdown",
   "metadata": {},
   "source": [
    "$Accuracy = \\frac{Number~of~Correctly~Predicted}{Number~of~Observations}$"
   ]
  },
  {
   "cell_type": "code",
   "execution_count": 19,
   "metadata": {
    "collapsed": false
   },
   "outputs": [
    {
     "name": "stdout",
     "output_type": "stream",
     "text": [
      "Accuracy: 0.48\n"
     ]
    }
   ],
   "source": [
    "# The import statement is to enable floating point division\n",
    "from __future__ import division \n",
    "\n",
    "matches = labels['predicted_label'] == labels['actual_label']\n",
    "correct_predictions = matches[matches==True]\n",
    "accuracy = len(correct_predictions) / len(matches)\n",
    "print 'Accuracy: {}'.format(accuracy)"
   ]
  },
  {
   "cell_type": "markdown",
   "metadata": {},
   "source": [
    "The `accuracy` of the model is worse than random quess. "
   ]
  },
  {
   "cell_type": "markdown",
   "metadata": {},
   "source": [
    "## 7. Sensitivity"
   ]
  },
  {
   "cell_type": "markdown",
   "metadata": {},
   "source": [
    "`Sensitivity` or `True Positive Rate` tells us how effective the model is at predicting positive outcomes. If sensitivity is low, it means that the model isn't effective at predicting positive cases. In our case, positive case is that GOOG will open higher the next day."
   ]
  },
  {
   "cell_type": "markdown",
   "metadata": {},
   "source": [
    "$Sensitivity = \\frac{True~Positives}{True~Positives~+~False~Negatives}$"
   ]
  },
  {
   "cell_type": "code",
   "execution_count": 20,
   "metadata": {
    "collapsed": false
   },
   "outputs": [
    {
     "name": "stdout",
     "output_type": "stream",
     "text": [
      "Sensitivity: 0.4375\n"
     ]
    }
   ],
   "source": [
    "true_positive_filter = (labels['predicted_label'] == 1) & (labels['actual_label'] == 1)\n",
    "true_positives = len(labels['actual_label'][true_positive_filter])\n",
    "false_negative_filter = (labels['predicted_label'] == 0) & (labels['actual_label'] == 1)\n",
    "false_negatives = len(labels['actual_label'][false_negative_filter])\n",
    "sensitivity = true_positives / (true_positives + false_negatives)\n",
    "print 'Sensitivity: {}'.format(sensitivity)"
   ]
  },
  {
   "cell_type": "markdown",
   "metadata": {},
   "source": [
    "Likewise, the `sensitivity` of the model is less than **50%**. "
   ]
  },
  {
   "cell_type": "markdown",
   "metadata": {},
   "source": [
    "## 8. Specificity"
   ]
  },
  {
   "cell_type": "markdown",
   "metadata": {},
   "source": [
    "`Specificity` or `True Negative Rate` tells us how effective the model is at predicting negative outcomes. "
   ]
  },
  {
   "cell_type": "markdown",
   "metadata": {},
   "source": [
    "$Specificity = \\frac{True~Negatives}{False~Positives~+~True~Negatives}$"
   ]
  },
  {
   "cell_type": "code",
   "execution_count": 21,
   "metadata": {
    "collapsed": false
   },
   "outputs": [
    {
     "name": "stdout",
     "output_type": "stream",
     "text": [
      "Specificity: 0.555555555556\n"
     ]
    }
   ],
   "source": [
    "true_negative_filter = (labels['predicted_label'] == 0) & (labels['actual_label'] == 0)\n",
    "true_negatives = len(labels['actual_label'][true_negative_filter])\n",
    "false_positive_filter = (labels['predicted_label'] == 1) & (labels['actual_label'] == 0)\n",
    "false_positives = len(labels['actual_label'][false_positive_filter])\n",
    "specificity = true_negatives / (false_positives + true_negatives)\n",
    "print 'Specificity: {}'.format(specificity)"
   ]
  },
  {
   "cell_type": "markdown",
   "metadata": {},
   "source": [
    "At about **56%**, the model's `specificity` seems a little bit better than **50%**. \n",
    "\n",
    "Let's quickly get a second opinion from another classifier, `support vector machine (SVM)`."
   ]
  },
  {
   "cell_type": "markdown",
   "metadata": {},
   "source": [
    "# 10. Support Vector Machine"
   ]
  },
  {
   "cell_type": "code",
   "execution_count": 22,
   "metadata": {
    "collapsed": false
   },
   "outputs": [],
   "source": [
    "from sklearn.svm import SVC\n",
    "\n",
    "# This may take 1-3 minutes to run\n",
    "model2 = SVC(C=1.0, kernel='poly', degree=1).fit(goog_X_train, goog_y_train)\n",
    "predicted_labels2 = model2.predict(goog_X_test)"
   ]
  },
  {
   "cell_type": "markdown",
   "metadata": {},
   "source": [
    "Here's a side by side display of the predicted labels and actual labels."
   ]
  },
  {
   "cell_type": "code",
   "execution_count": 23,
   "metadata": {
    "collapsed": false,
    "scrolled": false
   },
   "outputs": [
    {
     "data": {
      "text/html": [
       "<div>\n",
       "<table border=\"1\" class=\"dataframe\">\n",
       "  <thead>\n",
       "    <tr style=\"text-align: right;\">\n",
       "      <th></th>\n",
       "      <th>actual_label</th>\n",
       "      <th>predicted_label</th>\n",
       "    </tr>\n",
       "  </thead>\n",
       "  <tbody>\n",
       "    <tr>\n",
       "      <th>0</th>\n",
       "      <td>1</td>\n",
       "      <td>1</td>\n",
       "    </tr>\n",
       "    <tr>\n",
       "      <th>1</th>\n",
       "      <td>1</td>\n",
       "      <td>1</td>\n",
       "    </tr>\n",
       "    <tr>\n",
       "      <th>2</th>\n",
       "      <td>1</td>\n",
       "      <td>0</td>\n",
       "    </tr>\n",
       "    <tr>\n",
       "      <th>3</th>\n",
       "      <td>0</td>\n",
       "      <td>1</td>\n",
       "    </tr>\n",
       "    <tr>\n",
       "      <th>4</th>\n",
       "      <td>0</td>\n",
       "      <td>1</td>\n",
       "    </tr>\n",
       "    <tr>\n",
       "      <th>5</th>\n",
       "      <td>1</td>\n",
       "      <td>0</td>\n",
       "    </tr>\n",
       "    <tr>\n",
       "      <th>6</th>\n",
       "      <td>1</td>\n",
       "      <td>1</td>\n",
       "    </tr>\n",
       "    <tr>\n",
       "      <th>7</th>\n",
       "      <td>1</td>\n",
       "      <td>0</td>\n",
       "    </tr>\n",
       "    <tr>\n",
       "      <th>8</th>\n",
       "      <td>0</td>\n",
       "      <td>1</td>\n",
       "    </tr>\n",
       "    <tr>\n",
       "      <th>9</th>\n",
       "      <td>0</td>\n",
       "      <td>0</td>\n",
       "    </tr>\n",
       "    <tr>\n",
       "      <th>10</th>\n",
       "      <td>0</td>\n",
       "      <td>1</td>\n",
       "    </tr>\n",
       "    <tr>\n",
       "      <th>11</th>\n",
       "      <td>1</td>\n",
       "      <td>0</td>\n",
       "    </tr>\n",
       "    <tr>\n",
       "      <th>12</th>\n",
       "      <td>1</td>\n",
       "      <td>1</td>\n",
       "    </tr>\n",
       "    <tr>\n",
       "      <th>13</th>\n",
       "      <td>1</td>\n",
       "      <td>1</td>\n",
       "    </tr>\n",
       "    <tr>\n",
       "      <th>14</th>\n",
       "      <td>0</td>\n",
       "      <td>1</td>\n",
       "    </tr>\n",
       "    <tr>\n",
       "      <th>15</th>\n",
       "      <td>0</td>\n",
       "      <td>1</td>\n",
       "    </tr>\n",
       "    <tr>\n",
       "      <th>16</th>\n",
       "      <td>1</td>\n",
       "      <td>1</td>\n",
       "    </tr>\n",
       "    <tr>\n",
       "      <th>17</th>\n",
       "      <td>1</td>\n",
       "      <td>1</td>\n",
       "    </tr>\n",
       "    <tr>\n",
       "      <th>18</th>\n",
       "      <td>1</td>\n",
       "      <td>0</td>\n",
       "    </tr>\n",
       "    <tr>\n",
       "      <th>19</th>\n",
       "      <td>0</td>\n",
       "      <td>0</td>\n",
       "    </tr>\n",
       "    <tr>\n",
       "      <th>20</th>\n",
       "      <td>1</td>\n",
       "      <td>1</td>\n",
       "    </tr>\n",
       "    <tr>\n",
       "      <th>21</th>\n",
       "      <td>0</td>\n",
       "      <td>0</td>\n",
       "    </tr>\n",
       "    <tr>\n",
       "      <th>22</th>\n",
       "      <td>1</td>\n",
       "      <td>1</td>\n",
       "    </tr>\n",
       "    <tr>\n",
       "      <th>23</th>\n",
       "      <td>1</td>\n",
       "      <td>0</td>\n",
       "    </tr>\n",
       "    <tr>\n",
       "      <th>24</th>\n",
       "      <td>1</td>\n",
       "      <td>1</td>\n",
       "    </tr>\n",
       "  </tbody>\n",
       "</table>\n",
       "</div>"
      ],
      "text/plain": [
       "    actual_label  predicted_label\n",
       "0              1                1\n",
       "1              1                1\n",
       "2              1                0\n",
       "3              0                1\n",
       "4              0                1\n",
       "5              1                0\n",
       "6              1                1\n",
       "7              1                0\n",
       "8              0                1\n",
       "9              0                0\n",
       "10             0                1\n",
       "11             1                0\n",
       "12             1                1\n",
       "13             1                1\n",
       "14             0                1\n",
       "15             0                1\n",
       "16             1                1\n",
       "17             1                1\n",
       "18             1                0\n",
       "19             0                0\n",
       "20             1                1\n",
       "21             0                0\n",
       "22             1                1\n",
       "23             1                0\n",
       "24             1                1"
      ]
     },
     "execution_count": 23,
     "metadata": {},
     "output_type": "execute_result"
    }
   ],
   "source": [
    "labels2 = pd.DataFrame({\"actual_label\" : goog_y_test, \n",
    "                        \"predicted_label\" : predicted_labels2})\n",
    "labels2"
   ]
  },
  {
   "cell_type": "markdown",
   "metadata": {},
   "source": [
    "Next, we compute the 3 evaluation metrics and see how `SVM` does. "
   ]
  },
  {
   "cell_type": "code",
   "execution_count": 24,
   "metadata": {
    "collapsed": false
   },
   "outputs": [
    {
     "name": "stdout",
     "output_type": "stream",
     "text": [
      "Accuracy: 0.52\n"
     ]
    }
   ],
   "source": [
    "matches2 = predicted_labels2 == goog_y_test\n",
    "correct_predictions2 = matches2[matches2==True]\n",
    "accuracy2 = len(correct_predictions2) / len(matches2)\n",
    "print 'Accuracy: {}'.format(accuracy2)"
   ]
  },
  {
   "cell_type": "code",
   "execution_count": 25,
   "metadata": {
    "collapsed": false
   },
   "outputs": [
    {
     "name": "stdout",
     "output_type": "stream",
     "text": [
      "Sensitivity: 0.625\n"
     ]
    }
   ],
   "source": [
    "true_positive_filter2 = (predicted_labels2 == 1) & (goog_y_test == 1)\n",
    "true_positives2 = len(goog_y_test[true_positive_filter2])\n",
    "false_negative_filter2 = (predicted_labels2 == 0) & (goog_y_test == 1)\n",
    "false_negatives2 = len(goog_y_test[false_negative_filter2])\n",
    "sensitivity2 = true_positives2 / (true_positives2 + false_negatives2)\n",
    "print 'Sensitivity: {}'.format(sensitivity2)"
   ]
  },
  {
   "cell_type": "code",
   "execution_count": 26,
   "metadata": {
    "collapsed": false
   },
   "outputs": [
    {
     "name": "stdout",
     "output_type": "stream",
     "text": [
      "Specificity: 0.333333333333\n"
     ]
    }
   ],
   "source": [
    "true_negative_filter2 = (predicted_labels2 == 0) & (goog_y_test == 0)\n",
    "true_negatives2 = len(goog_y_test[true_negative_filter2])\n",
    "false_positive_filter2 = (predicted_labels2 == 1) & (goog_y_test == 0)\n",
    "false_positives2 = len(goog_y_test[false_positive_filter2])\n",
    "specificity2 = true_negatives2 / (false_positives2 + true_negatives2)\n",
    "print 'Specificity: {}'.format(specificity2)"
   ]
  },
  {
   "cell_type": "markdown",
   "metadata": {},
   "source": [
    "You've seen this type of metrics before with the logistic regression model and you're likely more comfortable interpreting them. Notice that `sensitivity` is about **63%**. So, the model is about **63%** effective at predicting whether the stock will open higher the next day. \n",
    "\n",
    "Overall, it appears that terrorism news isn't a good predictor of GOOG stock prices. Does this match your intuition? \n",
    "\n",
    "For us right now, this just means we're demystifying machine learning and getting some practice with it. \n",
    "\n",
    "Key takeaways from this whole process:\n",
    "\n",
    "- You should always get a second and even third or more opinions from other algorithms.\n",
    "\n",
    "- You should also generate multiple performance metrics. How much weight you give each metric really depends on your priorities.\n"
   ]
  },
  {
   "cell_type": "markdown",
   "metadata": {},
   "source": [
    "## 11. Next steps"
   ]
  },
  {
   "cell_type": "markdown",
   "metadata": {},
   "source": [
    "This tutorial provides a workflow of how you might approach your machine learning project. Machine learning seems too complex looking at it from the outside. I recommend building an intuition for what's going on and then getting involved **right away**. There will be time to dive deeper into the internals but just a few basics can take you 80% of the way (so-called [\"80/20 paradigm\"](http://www.ibm.com/developerworks/library/os-weka1/)). \n",
    "\n",
    "Here's a question for you:"
   ]
  },
  {
   "cell_type": "markdown",
   "metadata": {},
   "source": [
    "> ### How might you improve the models we just built?"
   ]
  },
  {
   "cell_type": "markdown",
   "metadata": {},
   "source": [
    "\n",
    "A few ideas to get your thoughts flowing:\n",
    "\n",
    "\n",
    "- Get more data. **Bigger is better**\n",
    "\n",
    "- Use 10-fold cross validation\n",
    "\n",
    "- Tune the default `parameters` in the classifiers\n",
    "\n",
    "- Try weighted measures, something like:\n",
    "\n",
    "$$terrorScores = \\frac{Terrorism~events~in~news~or~social~media}{Total~news~or~social~media~count}$$\n",
    "\n",
    "- Add other concepts, sentiment or trends\n",
    "\n",
    "- Add information from the general U.S. stock markets and even international markets\n",
    "\n",
    "- Try other algorithms such as decision tress or even an ensemble of algorithms\n",
    "\n",
    "\n",
    "As you explore, if you find something interesting or something that perhaps challenged your intuition, I like to hear about it! "
   ]
  }
 ],
 "metadata": {
  "kernelspec": {
   "display_name": "Python 2",
   "language": "python",
   "name": "python2"
  },
  "language_info": {
   "codemirror_mode": {
    "name": "ipython",
    "version": 2
   },
   "file_extension": ".py",
   "mimetype": "text/x-python",
   "name": "python",
   "nbconvert_exporter": "python",
   "pygments_lexer": "ipython2",
   "version": "2.7.11"
  }
 },
 "nbformat": 4,
 "nbformat_minor": 0
}
