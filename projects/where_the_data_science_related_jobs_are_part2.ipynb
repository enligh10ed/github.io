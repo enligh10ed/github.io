{
 "cells": [
  {
   "cell_type": "markdown",
   "metadata": {},
   "source": [
    "# Where the data science related jobs are? (Part 2)"
   ]
  },
  {
   "cell_type": "markdown",
   "metadata": {},
   "source": [
    "This post is a continuation of [Where the data science related jobs are (part 1)](https://github.com/sedeh/github.io/blob/master/projects/where_the_data_science_related_jobs_are_part1.ipynb). In this installment, we're going to analyze the dataset we downloaded and cleaned in part 1. The dataset contains job information about non-U.S. workers. When a U.S. company wants to hire a foreign worker, the company is required to file a work visa (H1B) or permanent residencey (green card) application with the U.S. Department of Labor. As part of the application, the company must disclose how much U.S. workers in similar jobs are being paid. This is called `Prevailing Wage`. The dataset only contains H1B data.\n",
    "\n",
    "We can take advantage of this information to gain insights into the general U.S. job market. Specifically, we're going to look at data science related jobs. Assuming the prevailing wage theory is true, U.S. companies hire foreign workers because there are no qualified U.S. applicants to fill the roles. So a company that hires foreign workers likely also hires many U.S. workers. After all, they only hired non-U.S. workers becauses they have exhausted the pool of qualified U.S. applicants.\n",
    "\n",
    "In part 1, we downloaded, cleaned and enriched the dataset. Now, let's probe the dataset (available [here](https://github.com/sedeh/github.io/tree/master/resources) as `dataScienceJobs.csv`). The dataset contains the following fields that are relevant to our current analysis."
   ]
  },
  {
   "cell_type": "markdown",
   "metadata": {},
   "source": [
    "- `Submitted_Date`: Timestamp reflecting when the H1B application was received by the government\n",
    "- `Employer_Name`: Name of the U.S. company filing the H1B application\n",
    "- `Work_State`: Full name of the state where the H1B job is located\n",
    "- `Work_State_Code`: Two letter state abbreviation where the H1B job is located\n",
    "- `Job_Category`: Unofficial job subcategory assigned to the Job Title listed on the application\n",
    "- `Offered_Salary_Adjusted`: Annual salary offered to the foreign worker beneficiary of the H1B application\n",
    "- `Prevailing_Salary_Adjusted`: Annual salary (prevailing wage) for similar jobs\n",
    "- `Census_2015`: Population census for the year 2015\n",
    "\n",
    "Annual salary has been adjusted to reflect regional inflation. "
   ]
  },
  {
   "cell_type": "markdown",
   "metadata": {},
   "source": [
    "## Load data"
   ]
  },
  {
   "cell_type": "markdown",
   "metadata": {},
   "source": [
    "Here's a snapshot of the dataset."
   ]
  },
  {
   "cell_type": "code",
   "execution_count": 1,
   "metadata": {
    "collapsed": false
   },
   "outputs": [
    {
     "name": "stdout",
     "output_type": "stream",
     "text": [
      "\n",
      "\n",
      "dsJobs has 283323 rows and 10 columns\n",
      "\n",
      "\n",
      "        Submitted_Date            Employer_Name      Work_City  \\\n",
      "0  2002-01-14 10:08:00  World Data Incorporated     Washington   \n",
      "1  2002-01-14 10:14:00  World Data Incorporated  Washington DC   \n",
      "2  2002-01-14 13:04:00  STMicroelectronics Inc.       San Jose   \n",
      "3  2002-01-14 13:09:00   Network Associates Inc    Santa Clara   \n",
      "4  2002-01-14 15:53:00              Aquila Inc.    Kansas City   \n",
      "\n",
      "             Work_State      Job_Category Work_State_Code  Price_Deflator  \\\n",
      "0  District Of Columbia    market analyst              DC           100.0   \n",
      "1  District Of Columbia    market analyst              DC           100.0   \n",
      "2            California    market analyst              CA           120.0   \n",
      "3            California  business analyst              CA           120.0   \n",
      "4              Missouri    market analyst              MO            94.9   \n",
      "\n",
      "   Offered_Salary_Adjusted  Prevailing_Salary_Adjusted  Census_2015  \n",
      "0             35608.000000                37482.000000     672228.0  \n",
      "1             35608.000000                37482.000000     672228.0  \n",
      "2            116666.666667               104450.833333   39144818.0  \n",
      "3             91666.666667                87450.000000   39144818.0  \n",
      "4            105374.077977                85238.145416    6083672.0  \n"
     ]
    }
   ],
   "source": [
    "# Load data\n",
    "import pandas as pd\n",
    "pd.options.mode.chained_assignment = None # For now, let's turn off panda's warning\n",
    "dsJobs = pd.read_csv(\"dataScienceJobs.csv\")\n",
    "print(\"\\n\")\n",
    "print(\"dsJobs has {0} rows and {1} columns\".format(dsJobs.shape[0], dsJobs.shape[1]))\n",
    "print(\"\\n\")\n",
    "print(dsJobs.head())"
   ]
  },
  {
   "cell_type": "markdown",
   "metadata": {},
   "source": [
    "## Query data"
   ]
  },
  {
   "cell_type": "markdown",
   "metadata": {},
   "source": [
    "Let's find out the Top 10 states for data science related H1B jobs."
   ]
  },
  {
   "cell_type": "code",
   "execution_count": 2,
   "metadata": {
    "collapsed": false
   },
   "outputs": [
    {
     "name": "stdout",
     "output_type": "stream",
     "text": [
      "\n",
      "\n",
      "  Work_State_Code   Census_2015  Job_Per_10000\n",
      "0              DC  1.590491e+09      35.196392\n",
      "1              NJ  2.499196e+11      31.144183\n",
      "2              DE  1.842679e+09      20.593403\n",
      "3              NY  7.564368e+11      19.303093\n",
      "4              VA  1.089202e+11      15.499238\n",
      "5              CT  1.939078e+10      15.038071\n",
      "6              MA  6.776757e+10      14.679689\n",
      "7              CA  2.191249e+12      14.300233\n",
      "8              IL  1.821490e+11      11.014001\n",
      "9              MD  3.431457e+10       9.511519\n"
     ]
    }
   ],
   "source": [
    "data = dsJobs[[\"Work_State_Code\", \"Census_2015\"]]\n",
    "data[\"Job_Per_10000\"] = 10000 * (1 / data[\"Census_2015\"])\n",
    "data = data.groupby(['Work_State_Code']).sum()\n",
    "state_data = data.reset_index()\n",
    "state_data.sort_values(by=\"Job_Per_10000\", ascending=False, inplace=True)\n",
    "print(\"\\n\")\n",
    "print(state_data.head(10).reset_index(drop=True))"
   ]
  },
  {
   "cell_type": "markdown",
   "metadata": {
    "collapsed": true
   },
   "source": [
    "Except for Illinois (IL), all of these states are located either in the East Coast or the West Coast. In fact, East Coast states dominate.  "
   ]
  },
  {
   "cell_type": "markdown",
   "metadata": {},
   "source": [
    "Let's see the Bottom 10 states for data science related H1B jobs."
   ]
  },
  {
   "cell_type": "code",
   "execution_count": 3,
   "metadata": {
    "collapsed": false
   },
   "outputs": [
    {
     "name": "stdout",
     "output_type": "stream",
     "text": [
      "\n",
      "\n",
      "  Work_State_Code  Census_2015  Job_Per_10000\n",
      "0              PW      41836.0       0.956114\n",
      "1              AS     222076.0       0.720474\n",
      "2              MS  640359262.0       0.715161\n",
      "3              WV  204698208.0       0.601910\n",
      "4              WY   19927638.0       0.580099\n",
      "5              MH     157902.0       0.569974\n",
      "6              PR  628826942.0       0.520986\n",
      "7              FM     517745.0       0.482863\n",
      "8              MT   48548603.0       0.455008\n",
      "9              MP      53883.0       0.185587\n"
     ]
    }
   ],
   "source": [
    "print(\"\\n\")\n",
    "print(state_data.tail(10).reset_index(drop=True))"
   ]
  },
  {
   "cell_type": "markdown",
   "metadata": {},
   "source": [
    "It seems that U.S. Territories and Outlying Areas dominate here."
   ]
  },
  {
   "cell_type": "markdown",
   "metadata": {},
   "source": [
    "## Map data"
   ]
  },
  {
   "cell_type": "markdown",
   "metadata": {},
   "source": [
    "Let's make an interactive map of the data in `plotly`."
   ]
  },
  {
   "cell_type": "code",
   "execution_count": 4,
   "metadata": {
    "collapsed": false
   },
   "outputs": [
    {
     "data": {
      "text/html": [
       "<iframe id=\"igraph\" scrolling=\"no\" style=\"border:none;\" seamless=\"seamless\" src=\"https://plot.ly/~samueledeh/2.embed\" height=\"525px\" width=\"100%\"></iframe>"
      ],
      "text/plain": [
       "<plotly.tools.PlotlyDisplay object>"
      ]
     },
     "execution_count": 4,
     "metadata": {},
     "output_type": "execute_result"
    }
   ],
   "source": [
    "# Learn about API authentication here: https://plot.ly/python/getting-started\n",
    "# Find your api_key here: https://plot.ly/settings/api\n",
    "#!pip install plotly # Uncomment this line if you don't already have plotly\n",
    "import pandas as pd\n",
    "import plotly.plotly as py\n",
    "import plotly.tools as tls\n",
    "tls.set_credentials_file(username='samueledeh', api_key='2spdso18wk')\n",
    "\n",
    "scl = [[0.0, 'rgb(242,240,247)'],[0.2, 'rgb(218,218,235)'],[0.4, 'rgb(188,189,220)'],\\\n",
    "            [0.6, 'rgb(158,154,200)'],[0.8, 'rgb(117,107,177)'],[1.0, 'rgb(84,39,143)']]\n",
    "    \n",
    "data = [dict(\n",
    "    type='choropleth',\n",
    "    colorscale = scl,\n",
    "    autocolorscale = False,\n",
    "    locations = state_data.Work_State_Code,\n",
    "    z = state_data['Job_Per_10000'].astype(float),\n",
    "    locationmode = 'USA-states',\n",
    "    text = state_data.Work_State_Code,\n",
    "    hoverinfo = 'location+z',\n",
    "    marker = dict(\n",
    "        line = dict (\n",
    "            color = 'rgb(255,255,255)',\n",
    "            width = 2\n",
    "        )\n",
    "    ),\n",
    "    colorbar = dict(\n",
    "        title = \"# of H1B Jobs Per 10,000 inhabitants\"\n",
    "    )\n",
    ")]\n",
    "\n",
    "layout = dict(\n",
    "    title = 'Data science related Jobs<br>(Hover for breakdown)',\n",
    "    geo = dict(\n",
    "        scope='usa',\n",
    "        projection=dict( type='albers usa' ),\n",
    "        showlakes = True,\n",
    "        lakecolor = 'rgb(255, 255, 255)'\n",
    "    )\n",
    ")\n",
    "    \n",
    "fig = dict(data=data, layout=layout)\n",
    "\n",
    "py.iplot(fig, validate=False, filename='ds-jobs-map')"
   ]
  },
  {
   "cell_type": "markdown",
   "metadata": {},
   "source": [
    "Based on above plot (also available [here](https://plot.ly/~samueledeh/2/data-science-related-jobs-hover-for-breakdown/)), New Jersey is the hottest state for data science related H1B jobs followed by Delaware. New York is also very strong, finishing well ahead of California. In general, it seems that data science related H1B jobs are concentrated around the coasts of the U.S. With the exception of Illinois, Texas and Minnesota, the middle part of America seems relatively barren as far as data science related H1B jobs are concerned.  \n",
    "\n",
    "> ### The U.S. Coasts are the hotbeds of data science related jobs\n",
    "\n",
    "Are you in the job market for a data science related job? If so, well, you may have just gotten some relocation ideas lined up for you! Before you start packing though, let's finish this story in Tableau and find out the [Top paying states and companies for data science related jobs](https://public.tableau.com/views/top_paying_states_for_data_science/Story1?:embed=y&:display_count=yes&:showTabs=y). "
   ]
  }
 ],
 "metadata": {
  "anaconda-cloud": {},
  "kernelspec": {
   "display_name": "Python 2",
   "language": "python",
   "name": "python2"
  },
  "language_info": {
   "codemirror_mode": {
    "name": "ipython",
    "version": 2
   },
   "file_extension": ".py",
   "mimetype": "text/x-python",
   "name": "python",
   "nbconvert_exporter": "python",
   "pygments_lexer": "ipython2",
   "version": "2.7.11"
  }
 },
 "nbformat": 4,
 "nbformat_minor": 0
}
